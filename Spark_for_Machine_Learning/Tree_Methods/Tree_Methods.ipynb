{
 "cells": [
  {
   "cell_type": "code",
   "execution_count": 1,
   "metadata": {},
   "outputs": [],
   "source": [
    "from pyspark.sql import SparkSession\n",
    "spark = SparkSession.builder.appName('mytree').getOrCreate()"
   ]
  },
  {
   "cell_type": "code",
   "execution_count": 3,
   "metadata": {},
   "outputs": [],
   "source": [
    "from pyspark.ml import Pipeline"
   ]
  },
  {
   "cell_type": "code",
   "execution_count": 4,
   "metadata": {},
   "outputs": [],
   "source": [
    "from pyspark.ml.classification import RandomForestClassifier, GBTClassifier, DecisionTreeClassifier"
   ]
  },
  {
   "cell_type": "code",
   "execution_count": 5,
   "metadata": {},
   "outputs": [],
   "source": [
    "# We can use the same models but for Regression\n",
    "#from pyspark.ml.regression import RandomForestRegressor, GBTRegressor, DecisionTreeRegressor"
   ]
  },
  {
   "cell_type": "code",
   "execution_count": 6,
   "metadata": {},
   "outputs": [],
   "source": [
    "data = spark.read.format('libsvm').load('sample_libsvm_data.txt')"
   ]
  },
  {
   "cell_type": "code",
   "execution_count": 7,
   "metadata": {},
   "outputs": [
    {
     "name": "stdout",
     "output_type": "stream",
     "text": [
      "+-----+--------------------+\n",
      "|label|            features|\n",
      "+-----+--------------------+\n",
      "|  0.0|(692,[127,128,129...|\n",
      "|  1.0|(692,[158,159,160...|\n",
      "|  1.0|(692,[124,125,126...|\n",
      "|  1.0|(692,[152,153,154...|\n",
      "|  1.0|(692,[151,152,153...|\n",
      "|  0.0|(692,[129,130,131...|\n",
      "|  1.0|(692,[158,159,160...|\n",
      "|  1.0|(692,[99,100,101,...|\n",
      "|  0.0|(692,[154,155,156...|\n",
      "|  0.0|(692,[127,128,129...|\n",
      "|  1.0|(692,[154,155,156...|\n",
      "|  0.0|(692,[153,154,155...|\n",
      "|  0.0|(692,[151,152,153...|\n",
      "|  1.0|(692,[129,130,131...|\n",
      "|  0.0|(692,[154,155,156...|\n",
      "|  1.0|(692,[150,151,152...|\n",
      "|  0.0|(692,[124,125,126...|\n",
      "|  0.0|(692,[152,153,154...|\n",
      "|  1.0|(692,[97,98,99,12...|\n",
      "|  1.0|(692,[124,125,126...|\n",
      "+-----+--------------------+\n",
      "only showing top 20 rows\n",
      "\n"
     ]
    }
   ],
   "source": [
    "data.show()"
   ]
  },
  {
   "cell_type": "code",
   "execution_count": 8,
   "metadata": {},
   "outputs": [],
   "source": [
    "train_data, test_data = data.randomSplit([0.7,0.3])"
   ]
  },
  {
   "cell_type": "code",
   "execution_count": 9,
   "metadata": {},
   "outputs": [],
   "source": [
    "dtc = DecisionTreeClassifier()\n",
    "rfc = RandomForestClassifier(numTrees=100)\n",
    "gbt = GBTClassifier()"
   ]
  },
  {
   "cell_type": "code",
   "execution_count": 10,
   "metadata": {},
   "outputs": [],
   "source": [
    "dtc_model = dtc.fit(train_data)\n",
    "rfc_model = rfc.fit(train_data)\n",
    "gbt_model = gbt.fit(train_data)"
   ]
  },
  {
   "cell_type": "code",
   "execution_count": 12,
   "metadata": {},
   "outputs": [],
   "source": [
    "dtc_preds = dtc_model.transform(test_data)\n",
    "rfc_preds = rfc_model.transform(test_data)\n",
    "gbt_preds = gbt_model.transform(test_data)"
   ]
  },
  {
   "cell_type": "code",
   "execution_count": 13,
   "metadata": {},
   "outputs": [
    {
     "name": "stdout",
     "output_type": "stream",
     "text": [
      "+-----+--------------------+-------------+-----------+----------+\n",
      "|label|            features|rawPrediction|probability|prediction|\n",
      "+-----+--------------------+-------------+-----------+----------+\n",
      "|  0.0|(692,[95,96,97,12...|  [100.0,0.0]|  [1.0,0.0]|       0.0|\n",
      "|  0.0|(692,[100,101,102...|  [70.0,30.0]|  [0.7,0.3]|       0.0|\n",
      "|  0.0|(692,[121,122,123...|   [99.0,1.0]|[0.99,0.01]|       0.0|\n",
      "|  0.0|(692,[123,124,125...|   [99.0,1.0]|[0.99,0.01]|       0.0|\n",
      "|  0.0|(692,[124,125,126...|   [96.0,4.0]|[0.96,0.04]|       0.0|\n",
      "|  0.0|(692,[126,127,128...|  [89.0,11.0]|[0.89,0.11]|       0.0|\n",
      "|  0.0|(692,[126,127,128...|   [99.0,1.0]|[0.99,0.01]|       0.0|\n",
      "|  0.0|(692,[126,127,128...|   [92.0,8.0]|[0.92,0.08]|       0.0|\n",
      "|  0.0|(692,[127,128,129...|   [99.0,1.0]|[0.99,0.01]|       0.0|\n",
      "|  0.0|(692,[128,129,130...|   [98.0,2.0]|[0.98,0.02]|       0.0|\n",
      "|  0.0|(692,[150,151,152...|  [89.0,11.0]|[0.89,0.11]|       0.0|\n",
      "|  0.0|(692,[151,152,153...|   [95.0,5.0]|[0.95,0.05]|       0.0|\n",
      "|  0.0|(692,[153,154,155...|  [85.0,15.0]|[0.85,0.15]|       0.0|\n",
      "|  0.0|(692,[154,155,156...|   [94.0,6.0]|[0.94,0.06]|       0.0|\n",
      "|  1.0|(692,[97,98,99,12...|  [11.0,89.0]|[0.11,0.89]|       1.0|\n",
      "|  1.0|(692,[99,100,101,...|  [43.0,57.0]|[0.43,0.57]|       1.0|\n",
      "|  1.0|(692,[100,101,102...|  [0.0,100.0]|  [0.0,1.0]|       1.0|\n",
      "|  1.0|(692,[123,124,125...|   [5.0,95.0]|[0.05,0.95]|       1.0|\n",
      "|  1.0|(692,[125,126,127...|  [0.0,100.0]|  [0.0,1.0]|       1.0|\n",
      "|  1.0|(692,[125,126,153...|  [0.0,100.0]|  [0.0,1.0]|       1.0|\n",
      "+-----+--------------------+-------------+-----------+----------+\n",
      "only showing top 20 rows\n",
      "\n"
     ]
    }
   ],
   "source": [
    "rfc_preds.show()"
   ]
  },
  {
   "cell_type": "code",
   "execution_count": 14,
   "metadata": {},
   "outputs": [
    {
     "name": "stdout",
     "output_type": "stream",
     "text": [
      "+-----+--------------------+--------------------+--------------------+----------+\n",
      "|label|            features|       rawPrediction|         probability|prediction|\n",
      "+-----+--------------------+--------------------+--------------------+----------+\n",
      "|  0.0|(692,[95,96,97,12...|[1.54350200272498...|[0.95635347857270...|       0.0|\n",
      "|  0.0|(692,[100,101,102...|[1.54350200272498...|[0.95635347857270...|       0.0|\n",
      "|  0.0|(692,[121,122,123...|[1.54350200272498...|[0.95635347857270...|       0.0|\n",
      "|  0.0|(692,[123,124,125...|[1.54350200272498...|[0.95635347857270...|       0.0|\n",
      "|  0.0|(692,[124,125,126...|[1.54350200272498...|[0.95635347857270...|       0.0|\n",
      "|  0.0|(692,[126,127,128...|[1.16456169933188...|[0.91126047608590...|       0.0|\n",
      "|  0.0|(692,[126,127,128...|[1.54350200272498...|[0.95635347857270...|       0.0|\n",
      "|  0.0|(692,[126,127,128...|[1.54350200272498...|[0.95635347857270...|       0.0|\n",
      "|  0.0|(692,[127,128,129...|[1.54350200272498...|[0.95635347857270...|       0.0|\n",
      "|  0.0|(692,[128,129,130...|[1.54350200272498...|[0.95635347857270...|       0.0|\n",
      "|  0.0|(692,[150,151,152...|[1.54350200272498...|[0.95635347857270...|       0.0|\n",
      "|  0.0|(692,[151,152,153...|[1.54350200272498...|[0.95635347857270...|       0.0|\n",
      "|  0.0|(692,[153,154,155...|[1.54350200272498...|[0.95635347857270...|       0.0|\n",
      "|  0.0|(692,[154,155,156...|[1.54350200272498...|[0.95635347857270...|       0.0|\n",
      "|  1.0|(692,[97,98,99,12...|[-1.5435020027249...|[0.04364652142729...|       1.0|\n",
      "|  1.0|(692,[99,100,101,...|[1.54350200272498...|[0.95635347857270...|       0.0|\n",
      "|  1.0|(692,[100,101,102...|[-1.5435020027249...|[0.04364652142729...|       1.0|\n",
      "|  1.0|(692,[123,124,125...|[-1.5435020027249...|[0.04364652142729...|       1.0|\n",
      "|  1.0|(692,[125,126,127...|[-1.5435020027249...|[0.04364652142729...|       1.0|\n",
      "|  1.0|(692,[125,126,153...|[-1.5435020027249...|[0.04364652142729...|       1.0|\n",
      "+-----+--------------------+--------------------+--------------------+----------+\n",
      "only showing top 20 rows\n",
      "\n"
     ]
    }
   ],
   "source": [
    "gbt_preds.show()"
   ]
  },
  {
   "cell_type": "markdown",
   "metadata": {},
   "source": [
    "### Use an evaluator"
   ]
  },
  {
   "cell_type": "code",
   "execution_count": 15,
   "metadata": {},
   "outputs": [],
   "source": [
    "from pyspark.ml.evaluation import MulticlassClassificationEvaluator"
   ]
  },
  {
   "cell_type": "code",
   "execution_count": 16,
   "metadata": {},
   "outputs": [],
   "source": [
    "acc_eval = MulticlassClassificationEvaluator(metricName='accuracy')"
   ]
  },
  {
   "cell_type": "code",
   "execution_count": 17,
   "metadata": {},
   "outputs": [
    {
     "name": "stdout",
     "output_type": "stream",
     "text": [
      "DTC ACCURACY\n"
     ]
    },
    {
     "data": {
      "text/plain": [
       "0.9696969696969697"
      ]
     },
     "execution_count": 17,
     "metadata": {},
     "output_type": "execute_result"
    }
   ],
   "source": [
    "print('DTC ACCURACY')\n",
    "acc_eval.evaluate(dtc_preds)"
   ]
  },
  {
   "cell_type": "code",
   "execution_count": 18,
   "metadata": {},
   "outputs": [
    {
     "name": "stdout",
     "output_type": "stream",
     "text": [
      "RFC ACCURACY\n"
     ]
    },
    {
     "data": {
      "text/plain": [
       "1.0"
      ]
     },
     "execution_count": 18,
     "metadata": {},
     "output_type": "execute_result"
    }
   ],
   "source": [
    "print('RFC ACCURACY')\n",
    "acc_eval.evaluate(rfc_preds)"
   ]
  },
  {
   "cell_type": "code",
   "execution_count": 19,
   "metadata": {},
   "outputs": [
    {
     "name": "stdout",
     "output_type": "stream",
     "text": [
      "GBT ACCURACY\n"
     ]
    },
    {
     "data": {
      "text/plain": [
       "0.9696969696969697"
      ]
     },
     "execution_count": 19,
     "metadata": {},
     "output_type": "execute_result"
    }
   ],
   "source": [
    "print('GBT ACCURACY')\n",
    "acc_eval.evaluate(gbt_preds)"
   ]
  },
  {
   "cell_type": "markdown",
   "metadata": {},
   "source": [
    "## Grab feature importance"
   ]
  },
  {
   "cell_type": "code",
   "execution_count": 20,
   "metadata": {},
   "outputs": [
    {
     "data": {
      "text/plain": [
       "SparseVector(692, {121: 0.0006, 147: 0.0007, 186: 0.0006, 190: 0.0008, 205: 0.002, 207: 0.0006, 214: 0.0021, 215: 0.0006, 217: 0.0006, 235: 0.0061, 237: 0.0006, 242: 0.0009, 243: 0.0012, 244: 0.0214, 263: 0.0073, 271: 0.0071, 272: 0.0263, 273: 0.0083, 274: 0.0003, 287: 0.0014, 289: 0.0076, 290: 0.0075, 291: 0.0017, 294: 0.0007, 299: 0.001, 300: 0.0102, 301: 0.0093, 302: 0.0038, 314: 0.0029, 317: 0.0085, 322: 0.0052, 324: 0.0016, 327: 0.0047, 328: 0.0082, 329: 0.0005, 341: 0.0005, 344: 0.0004, 345: 0.0077, 350: 0.0258, 351: 0.0177, 352: 0.0005, 353: 0.001, 356: 0.002, 360: 0.0027, 369: 0.0006, 370: 0.0033, 378: 0.0207, 379: 0.0217, 380: 0.0015, 381: 0.0006, 385: 0.0178, 386: 0.0053, 400: 0.0072, 401: 0.0062, 402: 0.0016, 405: 0.0244, 406: 0.0691, 407: 0.0214, 408: 0.0005, 412: 0.0021, 413: 0.0018, 414: 0.0241, 415: 0.0076, 416: 0.005, 428: 0.0017, 429: 0.0106, 433: 0.0215, 434: 0.053, 435: 0.0523, 436: 0.0006, 438: 0.0006, 440: 0.0216, 453: 0.0011, 454: 0.0086, 455: 0.0003, 457: 0.0011, 458: 0.0012, 460: 0.0006, 461: 0.0382, 462: 0.0406, 463: 0.0108, 464: 0.0008, 468: 0.0077, 482: 0.0033, 483: 0.0163, 484: 0.0015, 489: 0.0085, 490: 0.0506, 491: 0.0017, 493: 0.0018, 495: 0.0064, 497: 0.0073, 498: 0.0007, 511: 0.0382, 512: 0.0125, 513: 0.0011, 516: 0.0005, 517: 0.0128, 518: 0.0086, 523: 0.003, 524: 0.0087, 539: 0.0115, 540: 0.022, 541: 0.0041, 545: 0.0072, 550: 0.0059, 551: 0.0073, 552: 0.0018, 555: 0.0006, 570: 0.0005, 578: 0.0092, 595: 0.0007, 596: 0.0033, 602: 0.0013, 607: 0.0013, 622: 0.0003, 625: 0.0008, 626: 0.0007, 653: 0.0011})"
      ]
     },
     "execution_count": 20,
     "metadata": {},
     "output_type": "execute_result"
    }
   ],
   "source": [
    "rfc_model.featureImportances\n",
    "\n",
    "#The higher the number the more important it was"
   ]
  },
  {
   "cell_type": "markdown",
   "metadata": {},
   "source": [
    "## General process to any model\n",
    "1. Create an instance\n",
    "2. Fit into training data\n",
    "3. Transform the testing data OR if we have test data or some data that doesn't have the labels already we would just evaluate it \n",
    "4. We get our predictions out\n",
    "5. Then we can call our evaluation."
   ]
  },
  {
   "cell_type": "code",
   "execution_count": null,
   "metadata": {},
   "outputs": [],
   "source": []
  }
 ],
 "metadata": {
  "kernelspec": {
   "display_name": "Python 3",
   "language": "python",
   "name": "python3"
  },
  "language_info": {
   "codemirror_mode": {
    "name": "ipython",
    "version": 3
   },
   "file_extension": ".py",
   "mimetype": "text/x-python",
   "name": "python",
   "nbconvert_exporter": "python",
   "pygments_lexer": "ipython3",
   "version": "3.7.0"
  }
 },
 "nbformat": 4,
 "nbformat_minor": 2
}
