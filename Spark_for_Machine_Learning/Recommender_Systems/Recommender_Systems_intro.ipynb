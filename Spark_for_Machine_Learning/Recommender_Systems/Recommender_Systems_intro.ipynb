{
 "cells": [
  {
   "cell_type": "markdown",
   "metadata": {},
   "source": [
    "## Recommender Systems\n",
    "\n",
    "The two most common types of recommender systems are **Content-Based** and **Collaborative Filtering (CF)**\n",
    "\n",
    "### Collaborative Filtering\n",
    "Collaborative Filtering produces recommendations based on the knowledge of users attitude to items, that is it uses the `wisdom of the crowd` to recommend items.\n",
    "\n",
    "### Content-Based\n",
    "Content-based recommender systems focus on the attributes of the items and give you recommendations based on the similarity between them.\n",
    "\n",
    "<br><br>\n",
    "* In general, **Collaborative filtering (CF)** is more commonly used than **content-based** systems because it usually gives better results and is relatively easy to understand (from an overall implementation prespective).\n",
    "* The algorithm has the ability to do feature learning on its own, which means that it can start to learn for itself what features to use.\n",
    "* These techniques aim to fill in the missing entries of a user-item association matrix.\n",
    "* spark.ml currently supports model-based collaborative filtering, in which users and products are described by a small set of latent factors that can be used to predict missing entries.\n",
    "* spark.ml uses the alternating least squares (ALS) algorithm to learn these latent factors.\n",
    "* Our data needs to be in a specific format to work with Spark's ALS Recommendation Algorithm.\n",
    "<br><br>\n",
    "#### ALS\n",
    "* ALS is basically a Matrix Factorization approach to implement a recommendation algorithm you decompose your large user/item matrix into lower dimensional user factors and item factors."
   ]
  },
  {
   "cell_type": "markdown",
   "metadata": {},
   "source": [
    "### The intuite understanding\n",
    "Imagine we have 3 customers: 1,2,3\n",
    "<br>We also have some movies: A,B,C\n",
    "<br>Customers 1 and 2 really enjoy movies A and B and rate them five out of five stars!\n",
    "<br>#1 and #2 dislike movie C, and give it a one star rating.\n",
    "<br>Now we have a new customer #3, who reports a 5 star review for movie A\n",
    "<br>What new movie should we recommend, B or C?\n",
    "<br>Well, based off collaborative filtering we recommend movie B, because user 1 and 2 also enjoyed that (and movie A)"
   ]
  },
  {
   "cell_type": "code",
   "execution_count": null,
   "metadata": {},
   "outputs": [],
   "source": []
  }
 ],
 "metadata": {
  "kernelspec": {
   "display_name": "Python 3",
   "language": "python",
   "name": "python3"
  },
  "language_info": {
   "codemirror_mode": {
    "name": "ipython",
    "version": 3
   },
   "file_extension": ".py",
   "mimetype": "text/x-python",
   "name": "python",
   "nbconvert_exporter": "python",
   "pygments_lexer": "ipython3",
   "version": "3.7.0"
  }
 },
 "nbformat": 4,
 "nbformat_minor": 2
}
